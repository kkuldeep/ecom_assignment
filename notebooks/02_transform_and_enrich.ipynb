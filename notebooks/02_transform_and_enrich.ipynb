{
 "cells": [
  {
   "cell_type": "markdown",
   "id": "77cbcc25",
   "metadata": {},
   "source": [
    "# E-commerce Data Transformation and Enrichment\n",
    "\n",
    "This notebook handles the transformation and enrichment of raw e-commerce data tables.\n",
    "\n",
    "## Contents\n",
    "1. Data Loading\n",
    "2. Customer Data Enrichment\n",
    "3. Product Analysis\n",
    "4. Order Processing\n",
    "5. Aggregations and Metrics"
   ]
  },
  {
   "cell_type": "code",
   "execution_count": null,
   "id": "d0ae049a",
   "metadata": {},
   "outputs": [],
   "source": [
    "# Import required libraries and functions\n",
    "import os\n",
    "import sys\n",
    "sys.path.append(\"../\")  # Add project root to path\n",
    "\n",
    "from src.processing import (\n",
    "    init_spark,\n",
    "    get_customer_metrics,\n",
    "    analyze_product_performance,\n",
    "    enrich_orders,\n",
    "    get_sales_aggregations\n",
    ")\n",
    "from src.config import SparkConfig, BusinessConfig\n",
    "\n",
    "# Initialize Spark session using our utility function\n",
    "spark = init_spark(\"EcommerceTransformation\")\n",
    "\n",
    "# Load preprocessed tables\n",
    "products_df = spark.read.parquet(\"../data/processed/products\")\n",
    "customers_df = spark.read.parquet(\"../data/processed/customers\")\n",
    "orders_df = spark.read.parquet(\"../data/processed/orders\")\n",
    "\n",
    "# Display sample data\n",
    "print(\"Sample data preview:\")\n",
    "print(\"\\nOrders:\")\n",
    "orders_df.show(3)\n",
    "print(\"\\nCustomers:\")\n",
    "customers_df.show(3)\n",
    "print(\"\\nProducts:\")\n",
    "products_df.show(3)"
   ]
  },
  {
   "cell_type": "markdown",
   "id": "ae9fa7b0",
   "metadata": {},
   "source": [
    "## Customer Data Enrichment\n",
    "\n",
    "Enrich customer data with order history and segment information."
   ]
  },
  {
   "cell_type": "code",
   "execution_count": null,
   "id": "537facf8",
   "metadata": {},
   "outputs": [],
   "source": [
    "# Calculate customer metrics using our processing function\n",
    "enriched_customers = get_customer_metrics(orders_df, customers_df)\n",
    "\n",
    "# Display results with different segments\n",
    "print(\"Customer Metrics Overview:\")\n",
    "enriched_customers.show(5)\n",
    "\n",
    "print(\"\\nCustomer Segments Distribution:\")\n",
    "enriched_customers.groupBy(\"Customer Segment\").count().show()\n",
    "\n",
    "print(\"\\nActivity Status Distribution:\")\n",
    "enriched_customers.groupBy(\"Activity Status\").count().show()\n",
    "\n",
    "# Save enriched customer data\n",
    "enriched_customers.write.mode(\"overwrite\").parquet(\"../data/processed/enriched_customers\")"
   ]
  },
  {
   "cell_type": "markdown",
   "id": "846904ed",
   "metadata": {},
   "source": [
    "## Product Analysis\n",
    "\n",
    "Analyze product performance and create product hierarchies."
   ]
  },
  {
   "cell_type": "code",
   "execution_count": null,
   "id": "e587f1b3",
   "metadata": {},
   "outputs": [],
   "source": [
    "# Calculate product performance metrics using our processing function\n",
    "product_metrics = analyze_product_performance(orders_df, products_df)\n",
    "\n",
    "print(\"Product Performance Metrics:\")\n",
    "product_metrics.show(5)\n",
    "\n",
    "print(\"\\nProducts by Performance Flag:\")\n",
    "product_metrics.groupBy(\"Performance Flag\").count().show()\n",
    "\n",
    "# Calculate category-level aggregations\n",
    "category_performance = product_metrics.groupBy(\"Category\").agg(\n",
    "    count(\"Product ID\").alias(\"Number of Products\"),\n",
    "    spark_round(sum(\"Total Sales\"), 2).alias(\"Category Sales\"),\n",
    "    spark_round(avg(\"Profit Margin\"), 2).alias(\"Average Margin\")\n",
    ").orderBy(\"Category Sales\", ascending=False)\n",
    "\n",
    "print(\"\\nCategory Performance Overview:\")\n",
    "category_performance.show()\n",
    "\n",
    "# Save enriched product data\n",
    "product_metrics.write.mode(\"overwrite\").parquet(\"../data/processed/enriched_products\")"
   ]
  },
  {
   "cell_type": "markdown",
   "id": "e6f8c2e6",
   "metadata": {},
   "source": [
    "## Order Enrichment and Aggregations\n",
    "\n",
    "Combine order data with customer and product information, then calculate various aggregations."
   ]
  },
  {
   "cell_type": "code",
   "execution_count": null,
   "id": "e06141cb",
   "metadata": {},
   "outputs": [],
   "source": [
    "# Enrich orders with customer and product information\n",
    "enriched_orders = enrich_orders(orders_df, customers_df, products_df)\n",
    "\n",
    "print(\"Enriched Orders Preview:\")\n",
    "enriched_orders.show(5)\n",
    "\n",
    "# Calculate sales aggregations\n",
    "monthly_sales, customer_patterns = get_sales_aggregations(enriched_orders)\n",
    "\n",
    "print(\"\\nMonthly Sales by Category:\")\n",
    "monthly_sales.orderBy(\"Order Year\", \"Order Month\", \"Category\").show(5)\n",
    "\n",
    "print(\"\\nCustomer Purchase Patterns:\")\n",
    "customer_patterns.orderBy(\"Total Spend\", ascending=False).show(5)\n",
    "\n",
    "# Save enriched orders and aggregations\n",
    "enriched_orders.write.mode(\"overwrite\").parquet(\"../data/processed/enriched_orders\")\n",
    "monthly_sales.write.mode(\"overwrite\").parquet(\"../data/processed/monthly_sales\")\n",
    "customer_patterns.write.mode(\"overwrite\").parquet(\"../data/processed/customer_patterns\")"
   ]
  },
  {
   "cell_type": "markdown",
   "id": "56a290e6",
   "metadata": {},
   "source": [
    "## SQL-Based Profit Analysis\n",
    "\n",
    "Analyze profit patterns using SQL queries across different dimensions."
   ]
  },
  {
   "cell_type": "code",
   "execution_count": null,
   "id": "7e69fe62",
   "metadata": {},
   "outputs": [],
   "source": [
    "# Execute all profit analysis SQL queries\n",
    "from src.processing import get_sql_profit_analysis\n",
    "\n",
    "profit_analysis = get_sql_profit_analysis(spark, enriched_orders)\n",
    "\n",
    "# 1. Yearly Profit Analysis\n",
    "print(\"Profit Analysis by Year:\")\n",
    "profit_analysis[\"yearly_profit\"].show()\n",
    "\n",
    "# 2. Category Profit Analysis\n",
    "print(\"\\nProfit Analysis by Year and Category:\")\n",
    "profit_analysis[\"category_profit\"].show()\n",
    "\n",
    "# 3. Customer Profit Analysis\n",
    "print(\"\\nTop Customers by Profit:\")\n",
    "profit_analysis[\"customer_profit\"].show(10)\n",
    "\n",
    "# 4. Customer Yearly Profit Analysis\n",
    "print(\"\\nCustomer Profit Trends by Year:\")\n",
    "profit_analysis[\"customer_yearly_profit\"].show(10)\n",
    "\n",
    "# Save results to parquet files\n",
    "profit_analysis[\"yearly_profit\"].write.mode(\"overwrite\").parquet(\"../data/processed/yearly_profit\")\n",
    "profit_analysis[\"category_profit\"].write.mode(\"overwrite\").parquet(\"../data/processed/category_profit\")\n",
    "profit_analysis[\"customer_profit\"].write.mode(\"overwrite\").parquet(\"../data/processed/customer_profit\")\n",
    "profit_analysis[\"customer_yearly_profit\"].write.mode(\"overwrite\").parquet(\"../data/processed/customer_yearly_profit\")"
   ]
  }
 ],
 "metadata": {
  "language_info": {
   "name": "python"
  }
 },
 "nbformat": 4,
 "nbformat_minor": 5
}
